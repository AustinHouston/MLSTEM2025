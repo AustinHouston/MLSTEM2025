{
 "cells": [
  {
   "cell_type": "markdown",
   "metadata": {
    "hideCode": false,
    "hidePrompt": false
   },
   "source": [
    "<font size = \"5\"> **Day 1: [Atomic Resolution STEM and Machine Learning](../MLSTEM2025.ipynb)** </font>\n",
    "\n",
    "<hr style=\"height:1px;border-top:4px solid #FF8200\" />\n",
    "\n",
    "\n",
    "\n",
    "\n",
    "[Download](https://github.com/gduscher/MLSTEM2025/raw/refs/heads/main/Day%201/3b_Probe.ipynb)\n",
    "\n",
    "[![OpenInColab](https://colab.research.google.com/assets/colab-badge.svg)](\n",
    "   https://colab.research.google.com/github/gduscher/MLSTEM2025/blob/main/Day%201/3b_Probe.ipynb)\n",
    "\n",
    "\n",
    "\n",
    "# Probe\n",
    "\n",
    "part of the workshop of \n",
    "\n",
    "<font size = \"5\"> **[Machine Learning in Transmission Electron Microscopy](../MLSTEM2025.ipynb)**</font>\n",
    "\n",
    "\n",
    "**Day1: Atomic Resolution STEM,**\n",
    "<table style=\"margin-right:auto;margin-left:0px\">\n",
    "  <tr>\n",
    "    <td>Gerd Duscher </td>\n",
    "    <td>Sergei Kalinin</td>\n",
    "  </tr>\n",
    "  <tr>\n",
    "    <td colspan=\"2\"><center>Microscopy Facilities</td> \n",
    "  </tr>\n",
    "  \n",
    "  <tr>\n",
    "    <td colspan=\"2\"><center>Materials Science & Engineering</td>\n",
    "    <td></td>\n",
    "  </tr>\n",
    "  <tr>\n",
    "    <td colspan=\"2\"><center>Institute of Advanced Materials & Manufacturing</td>\n",
    "  </tr>\n",
    "  <tr>\n",
    "    <td colspan=\"2\"><center> The University of Tennessee, Knoxville</center> </td>\n",
    "  </tr>\n",
    "</table>\n",
    "        \n",
    "**May 2025**\n",
    "\n",
    "\n",
    "## Load packages\n",
    "### Check for Newest Versions"
   ]
  },
  {
   "cell_type": "code",
   "execution_count": null,
   "metadata": {},
   "outputs": [],
   "source": [
    "import sys\n",
    "import importlib.metadata\n",
    "def test_package(package_name):\n",
    "    \"\"\"Test if package exists and returns version or -1\"\"\"\n",
    "    try:\n",
    "        version = importlib.metadata.version(package_name)\n",
    "    except importlib.metadata.PackageNotFoundError:\n",
    "        version = '-1'\n",
    "    return version\n",
    "\n",
    "if test_package('pyTEMlib') < '0.2024.2.3':\n",
    "    print('installing pyTEMlib')\n",
    "    !{sys.executable} -m pip install  --upgrade pyTEMlib -q\n",
    "\n",
    "print('done')"
   ]
  },
  {
   "cell_type": "markdown",
   "metadata": {},
   "source": [
    "### Load Necessary Packages"
   ]
  },
  {
   "cell_type": "code",
   "execution_count": 1,
   "metadata": {
    "hideCode": false,
    "hidePrompt": false
   },
   "outputs": [
    {
     "name": "stdout",
     "output_type": "stream",
     "text": [
      "You don't have igor2 installed.     If you wish to open igor files, you will need to install it     (pip install igor2) before attempting.\n",
      "You don't have gwyfile installed.     If you wish to open .gwy files, you will need to      install it (pip install gwyfile) before attempting.\n",
      "Symmetry functions of spglib enabled\n",
      "pyTEM version:  0.2025.03.0\n"
     ]
    }
   ],
   "source": [
    "%matplotlib widget\n",
    "import matplotlib.pyplot as plt\n",
    "import numpy as np\n",
    "import sys\n",
    "import os\n",
    "\n",
    "if 'google.colab' in sys.modules:\n",
    "    from google.colab import output\n",
    "    from google.colab import drive\n",
    "    output.enable_custom_widget_manager()\n",
    "    \n",
    "from matplotlib.patches import Circle\n",
    "\n",
    "import pyTEMlib\n",
    "import pyTEMlib.probe_tools\n",
    "import skimage\n",
    "import scipy\n",
    "from skimage.draw import random_shapes\n",
    "\n",
    "\n",
    "print('pyTEM version: ', pyTEMlib.__version__)"
   ]
  },
  {
   "cell_type": "markdown",
   "metadata": {},
   "source": [
    "## Goals\n",
    "\n",
    "Everything we went over so far can be used now to visualize how to determine the aberrations from under and overfocused images.\n"
   ]
  },
  {
   "cell_type": "markdown",
   "metadata": {
    "hideCode": false,
    "hidePrompt": false
   },
   "source": [
    "### Aberration Function $\\chi$\n",
    "\n",
    "Please see this notebook for a more detailed discussion of the [Aberration Function](CH3_03-CTF.ipynb#Aberrations)\n",
    "\n",
    "With the main aberration coefficients $C_{n,m}$:\n",
    "\n",
    "Coefficient  Nion | CEOS | Name\n",
    " ----------------|------------- | -------------\n",
    " $C_{10}$ | $C_1$ |defocus\n",
    " $C_{12a}$, $C_{12b}$  | $A_1$ |astigmatism\n",
    " $C_{21a}$, $C_{21b}$  | $B_2$ |coma\n",
    " $C_{23a}$, $C_{23b}$  | $A_2$ |three-fold astigmatism\n",
    " $C_{30}$  | $C_3$ |spherical aberration\n",
    "    \n",
    "As before the aberration function $\\chi$ in polar coordinates (of angles) $\\theta$ and $\\phi$ is defined according to [Krivanek et al.](https://doi.org/10.1016/S0304-3991(99)00013-3):\n",
    "\n",
    "$$\n",
    "\\chi(\\theta, \\phi) = \\sum_n \\theta^{n+1} *\\frac{1}{n+1} * \\sum_{n} C_{n,m,a}  \\cos(m*\\phi) + C_{n,m,b} \\sin(m*\\phi) \n",
    "$$\n",
    "\n",
    "with:\n",
    "- $n$: order ($n=0,1,2,3,...$)\n",
    "- $m$: symmetry  $m = ..., n+1$;  \n",
    "    - $m$ is all odd   for n = even\n",
    "    - $m$ is all even  for n = odd\n",
    "\n",
    "    \n",
    "\n",
    "In the following we program the equation above just as seen. The terms are divided into the theta (line 22) and the sum part (line 33).  The product of these two terms is summed in line 39.\n",
    "\n",
    "We assume that the aberrations are given up to fifth order.\n",
    "\n",
    "\n"
   ]
  },
  {
   "cell_type": "markdown",
   "metadata": {},
   "source": [
    "We see that increasing the size of an coherently illuminated aperture is reducing the probe diameter and therefore improving spatial resolution. The goal is to obtain an as large radius as possible of quasi-coherent area (in reciprocal space) match it with an aperture and use that as a probforming configuration.\n",
    "\n",
    "The Ronchigram will get us that coherent illumination and we will discuss this Ronchigram in detail in this notebook."
   ]
  },
  {
   "cell_type": "markdown",
   "metadata": {
    "hideCode": false,
    "hidePrompt": false
   },
   "source": [
    "## Calculate Ronchigram\n",
    "\n",
    "Setting up the meshes of angles $\\phi$ and $\\theta$ in polar coordinates for which the aberrations will be calculated.\n",
    "This is analog to what we did in the [Ronchigram notebook](./2_berrations).\n"
   ]
  },
  {
   "cell_type": "markdown",
   "metadata": {
    "hideCode": false,
    "hidePrompt": false
   },
   "source": [
    "The effect of defocus $C_{10}$ and astigmatism $C_{12a}$ and $C_{12b}$ on the ronchigram can be explored below.\n",
    "Also change coma $C_{21a}$ and $C_{21b}$ and spherical aberration  $C_{30}$ or anyother aberration you might want to test."
   ]
  },
  {
   "cell_type": "markdown",
   "metadata": {
    "hideCode": false,
    "hidePrompt": false
   },
   "source": [
    "### Load Aberrations\n",
    "\n",
    "The aberrations are expected to be in a python dictionary.\n",
    "\n",
    "Besides the aberration coefficients, \n",
    "for the calculation of the aberrations the wavelength and therefore the acceleration voltage is needed.\n",
    "\n",
    "Here we load the aberration for a microscope: the following microscpes are available:\n",
    "- ZeissMC200\n",
    "- NionUS200\n",
    "- NionUS100"
   ]
  },
  {
   "cell_type": "code",
   "execution_count": 2,
   "metadata": {
    "hideCode": false,
    "hidePrompt": false
   },
   "outputs": [
    {
     "name": "stdout",
     "output_type": "stream",
     "text": [
      " **** Using Target Values at 200.0kV for Aberrations of NionUS200****\n"
     ]
    },
    {
     "data": {
      "text/html": [
       "<html><body>Aberrations [nm] for acceleration voltage: 200 kV<table><tr><td> C10 </td><td> -5.0 </tr><tr><td> C12a (A1) </td><td>                  0.0 <td> C12b (A1) </td><td>                  0.4 </tr><tr><td> C21a (B2) </td><td> -68.5 <td> C21b (B2)</td><td> 64.9     <td> C23a (A2) </td><td> 11.7 <td> C23b (A2) </td><td> -29.8 </tr><tr><td> C30 </td><td> 123.0 </tr><tr><td> C32a (S3) </td><td>                 95.3 <td> C32b (S3)</td><td>               -189.7 <td> C34a (A3) </td><td>                -47.5 <td> C34b (A3) </td><td>                -94.7 </tr><tr><td> C41a (B4) </td><td> -905 <td> C41b (B4) </td><td> 981     <td> C43a (D4) </td><td> 4.02e+03 <td> C43b (D4) </td><td> 981     <td> C45a (A4) </td><td> -4.7e+03 <td> C45b (A4)</td><td> -208 </tr><tr><td> C50 </td><td> 5.52e+05 </tr><tr><td> C52a </td><td>                 -0.0 <td> C52b </td><td>                  0.0 <td> C54a </td><td>                 -0.0 <td> C54b </td><td>                 -0.0 <td> C56a </td><td>             -36663.6 <td> C56b </td><td>              21356.1 </tr><tr><td> Cc </td><td> 1e+06 </tr></table></body></html>"
      ],
      "text/plain": [
       "<IPython.core.display.HTML object>"
      ]
     },
     "metadata": {},
     "output_type": "display_data"
    }
   ],
   "source": [
    "\n",
    "ab = pyTEMlib.probe_tools.get_target_aberrations(\"ZeissMC200\",200000)\n",
    "ab = pyTEMlib.probe_tools.get_target_aberrations(\"NionUS200\",200000)\n",
    "#ab = pyTEMlib.probe_tools.get_target_aberrations(\"NionUS100\",60000)\n",
    "ab = pyTEMlib.probe_tools.get_target_aberrations(\"Spectra300\", 200000)\n",
    "ab['C10'] = -5\n",
    "reciprocal_FOV = ab['reciprocal_FOV'] = 150*1e-3\n",
    "ab['FOV'] = 1/reciprocal_FOV\n",
    "ab['extent'] = [-reciprocal_FOV*1000,reciprocal_FOV*1000,-reciprocal_FOV*1000,reciprocal_FOV*1000]\n",
    "ab['size'] = 512\n",
    "ab['wavelength'] = pyTEMlib.probe_tools.get_wavelength(ab['acceleration_voltage'])\n",
    "\n",
    "pyTEMlib.probe_tools.print_aberrations(ab)"
   ]
  },
  {
   "cell_type": "markdown",
   "metadata": {},
   "source": [
    "### Probe Shape Calculation\n",
    "The probe shape is defined as the absolute of the \n",
    "inverse of the aberration function which is limited by an aperture.\n",
    "\n"
   ]
  },
  {
   "cell_type": "code",
   "execution_count": 3,
   "metadata": {},
   "outputs": [],
   "source": [
    "ab.update({'A1': [-1.7256467648864592e-09, -4.33652950047942e-09],\n",
    "  'A2': [1.1832002758281756e-07, -9.356132757317088e-08],\n",
    "  'C3': [3.9123259711154475e-07, 0.0],\n",
    "  'C1': [-7.160069847952156e-09, 0.0],\n",
    "  'A4': [-1.2421582380458277e-06, -6.555555994007509e-07],\n",
    "  'A3': [9.14858860850468e-08, 8.24581795110536e-08],\n",
    "  'A5': [2.4305034548402935e-05, -4.3665588715379156e-05],\n",
    "  'B2': [-3.583665699539742e-08, -7.368501963663006e-08],\n",
    "  'B4': [2.7117076219729385e-07, 3.745259044319655e-06],\n",
    "  'S3': [1.892912397258682e-07, -5.2074838081861786e-08],\n",
    "  'C5': [-1.4203666265095235e-05, 0.0],\n",
    "  'D4': [-1.0812219869916382e-07, 4.316301635786145e-06],\n",
    "  'WD': [0.000120721584514962, 2.8815317878038834e-05]},)\n",
    "\n",
    "\n",
    "\n"
   ]
  },
  {
   "cell_type": "code",
   "execution_count": 4,
   "metadata": {
    "hideCode": false,
    "hidePrompt": false
   },
   "outputs": [
    {
     "name": "stdout",
     "output_type": "stream",
     "text": [
      "0.03\n",
      "0.03\n"
     ]
    },
    {
     "ename": "AttributeError",
     "evalue": "module 'pyTEMlib.probe_tools' has no attribute 'print_aberrations_polar'",
     "output_type": "error",
     "traceback": [
      "\u001b[1;31m---------------------------------------------------------------------------\u001b[0m",
      "\u001b[1;31mAttributeError\u001b[0m                            Traceback (most recent call last)",
      "Cell \u001b[1;32mIn[4], line 27\u001b[0m\n\u001b[0;32m     25\u001b[0m ax[\u001b[38;5;241m1\u001b[39m]\u001b[38;5;241m.\u001b[39mset_ylabel(ab[\u001b[38;5;124m'\u001b[39m\u001b[38;5;124mronchi_label\u001b[39m\u001b[38;5;124m'\u001b[39m])\n\u001b[0;32m     26\u001b[0m ax[\u001b[38;5;241m1\u001b[39m]\u001b[38;5;241m.\u001b[39mset_title(\u001b[38;5;124m'\u001b[39m\u001b[38;5;124mRonchigram\u001b[39m\u001b[38;5;124m'\u001b[39m)\n\u001b[1;32m---> 27\u001b[0m \u001b[43mpyTEMlib\u001b[49m\u001b[38;5;241;43m.\u001b[39;49m\u001b[43mprobe_tools\u001b[49m\u001b[38;5;241;43m.\u001b[39;49m\u001b[43mprint_aberrations_polar\u001b[49m(ab)\n\u001b[0;32m     30\u001b[0m \u001b[38;5;66;03m#condensor_aperture = Circle((0, 0), radius = condensor_aperture_radius)#, fill = False, color = 'red')\u001b[39;00m\n\u001b[0;32m     31\u001b[0m \u001b[38;5;66;03m#plt.gca().add_patch(condensor_aperture);\u001b[39;00m\n",
      "\u001b[1;31mAttributeError\u001b[0m: module 'pyTEMlib.probe_tools' has no attribute 'print_aberrations_polar'"
     ]
    },
    {
     "data": {
      "application/vnd.jupyter.widget-view+json": {
       "model_id": "e766e1cf1424420a8601c87ef77d0c14",
       "version_major": 2,
       "version_minor": 0
      },
      "image/png": "[encoded data removed]",
      "text/html": [
       "\n",
       "            <div style=\"display: inline-block;\">\n",
       "                <div class=\"jupyter-widgets widget-label\" style=\"text-align: center;\">\n",
       "                    Figure\n",
       "                </div>\n",
       "                <img src='data:image/png;base64,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' width=800.0/>\n",
       "            </div>\n",
       "        "
      ],
      "text/plain": [
       "Canvas(toolbar=Toolbar(toolitems=[('Home', 'Reset original view', 'home', 'home'), ('Back', 'Back to previous …"
      ]
     },
     "metadata": {},
     "output_type": "display_data"
    }
   ],
   "source": [
    "sizeX = 512*2\n",
    "probe_FOV  = 20\n",
    "ab['Cc'] = 1\n",
    "ab['C10'] = 0\n",
    "\n",
    "ronchi_FOV = 350 #mrad\n",
    "condensor_aperture_radius =  30  # mrad\n",
    "ronchi_condensor_aperture_radius = 30  # mrad\n",
    "ab['FOV'] = probe_FOV\n",
    "ab['convergence_angle'] = condensor_aperture_radius\n",
    "probe, A_k, chi  = pyTEMlib.probe_tools.get_probe( ab, sizeX, sizeX,  scale = 'mrad', verbose= True)\n",
    "\n",
    "ab['FOV'] = 4/ronchi_FOV*sizeX/2 * ab['wavelength'] *1000\n",
    "ab['convergence_angle'] = ronchi_condensor_aperture_radius ## let have a little bit of a view\n",
    "ronchigram = pyTEMlib.probe_tools.get_ronchigram(1024, ab, scale = 'mrad'  )\n",
    "\n",
    "ab['FOV'] = probe_FOV\n",
    "fig, ax = plt.subplots(1, 2, figsize=(8, 4))\n",
    "ax[0].imshow(probe, extent = [-int(ab['FOV']/2),int(ab['FOV']/2),-int(ab['FOV']/2),int(ab['FOV']/2)])\n",
    "ax[0].set_ylabel('distance [nm]')\n",
    "profile = probe[:, 256]\n",
    "ax[0].plot(np.linspace(-ab['FOV']/2,ab['FOV']/2,profile.shape[0]), probe[int(probe.shape[1]/2),:]/probe[int(probe.shape[1]/2),:].max()*probe_FOV/2.1)\n",
    "ax[0].set_title('Probe')\n",
    "ax[1].imshow(ronchigram, extent = ab['ronchi_extent'])\n",
    "ax[1].set_ylabel(ab['ronchi_label'])\n",
    "ax[1].set_title('Ronchigram')\n",
    "pyTEMlib.probe_tools.print_aberrations_polar(ab)\n",
    "    \n",
    "    \n",
    "#condensor_aperture = Circle((0, 0), radius = condensor_aperture_radius)#, fill = False, color = 'red')\n",
    "#plt.gca().add_patch(condensor_aperture);"
   ]
  },
  {
   "cell_type": "code",
   "execution_count": null,
   "metadata": {},
   "outputs": [],
   "source": [
    "# ---- Input -----\n",
    "ab['C10'] = 30\n",
    "ab['C23b'] = 400\n",
    "ab['C23a'] = -00\n",
    "\n",
    "ab['C21a'] = -00\n",
    "ab['C21b'] = -00\n",
    "\n",
    "# ------------------\n",
    "def get_probe_large(ab):    \n",
    "    ab['FOV'] = 20\n",
    "    sizeX = 512*2\n",
    "    probe, A_k, chi  = pyTEMlib.probe_tools.get_probe( ab, sizeX, sizeX,  scale = 'mrad', verbose= True)\n",
    "    \n",
    "    res = np.zeros((512, 512))\n",
    "    res[256-32:256+32, 256-32:256+32 ] = skimage.transform.resize(probe, (64, 64))\n",
    "    \n",
    "    return res\n",
    "\n",
    "def get_large_image(number_of_electrons=1000):\n",
    "    image, _ = random_shapes((512, 512), min_shapes=15, max_shapes=26, shape='circle',\n",
    "                             min_size=40, max_size = 60, allow_overlap=False, num_channels=1)\n",
    "    image = 1-np.squeeze(image)/image.max()\n",
    "    image[image<.1] = 0\n",
    "    image[image>0] = number_of_electrons\n",
    "    noise = np.random.poisson(image)\n",
    "    image = image+noise+np.random.random(image.shape)*noise.max()\n",
    "    return image\n",
    "     \n",
    "def large_image (ab, image=None, FOV=15*4) :\n",
    "    out = np.zeros([3, image.shape[0], image.shape[1]])\n",
    "    C10 = ab['C10'] \n",
    "    ab['C10'] = C10-180\n",
    "    res = get_probe_large(ab)\n",
    "    out[1] = scipy.signal.fftconvolve(image, res, mode='same') \n",
    "\n",
    "    ab['C10'] = C10+180\n",
    "    res = get_probe_large(ab)\n",
    "    out[2] = scipy.signal.fftconvolve(image, res, mode='same') \n",
    "    \n",
    "    ab['C10'] = C10\n",
    "    res = get_probe_large(ab)\n",
    "    out[0] = scipy.signal.fftconvolve(image, res, mode='same') \n",
    "    \n",
    "    return out, res\n",
    "    \n",
    "\n",
    "image = get_large_image(number_of_electrons=10)\n",
    "\n",
    "imaged, res = large_image(ab, image, 90)\n",
    "image *= 1000/image.max()\n",
    "\n",
    "fig, axs = plt.subplots(1, 4, layout='constrained', figsize=(10, 4))\n",
    "\n",
    "axs[0].imshow(imaged[0], cmap='gray')\n",
    "axs[0].set_title('reference')\n",
    "axs[1].imshow(imaged[1], cmap='gray')\n",
    "axs[1].set_title('defocus: -180 nm')\n",
    "axs[2].imshow(imaged[2], cmap='gray')\n",
    "\n",
    "axs[2].set_title('defocus: +180 nm')\n",
    "axs[3].imshow(res)\n",
    "\n",
    "axs[3].set_title('probe shape')\n",
    "axs[3].set_ylim(256-30,256+30)\n",
    "axs[3].set_xlim(256-30,256+30)\n"
   ]
  },
  {
   "cell_type": "markdown",
   "metadata": {},
   "source": [
    "## Determine Probe Shape from Images\n",
    "A Deconvolution of the defocused images from the reference image will determine the probe shape."
   ]
  },
  {
   "cell_type": "code",
   "execution_count": null,
   "metadata": {},
   "outputs": [],
   "source": [
    "def get_probe_shape_from_images(images):\n",
    "    im1 = np.fft.fft2(np.array(images[0]))\n",
    "    im2 = np.fft.fft2(np.array(images[1]))\n",
    "    im3 = np.fft.fft2(np.array(images[2]))\n",
    "    g1 = np.fft.fft2(pyTEMlib.probe_tools.make_gauss(512,512,3))\n",
    "\n",
    "    dec = np.zeros([2, im1.shape[0], im1.shape[1]])\n",
    "    dec[0] = np.fft.ifft2(g1*(im2/im1).T).real\n",
    "    dec[1] = np.fft.ifft2(g1*(im3/im1).T).real\n",
    "\n",
    "    return dec\n",
    "\n",
    "dec = get_probe_shape_from_images(imaged)\n",
    "\n",
    "fig, axs = plt.subplots(1, 2, layout='constrained', figsize=(5, 2))\n",
    "\n",
    "axs[0].imshow(dec[0])\n",
    "axs[0].set_title('underfocused probe')\n",
    "axs[0].set_ylim(256-30,256+30)\n",
    "axs[0].set_xlim(256-30,256+30)\n",
    "\n",
    "axs[1].imshow(dec[1])\n",
    "axs[1].set_title('overfocused probe')\n",
    "axs[1].set_ylim(256-30,256+30)\n",
    "axs[1].set_xlim(256-30,256+30)\n",
    "\n",
    "pyTEMlib.probe_tools.print_aberrations(ab)"
   ]
  },
  {
   "cell_type": "markdown",
   "metadata": {},
   "source": [
    "In the image above look for differences in size and the shape.\n",
    "\n",
    "A defocus of the reference image should result in different sized defocused probes.\n",
    "\n",
    "A three-fold astigmatis $C_{23}$ or A2 should give a triangular probe.\n",
    "\n"
   ]
  },
  {
   "cell_type": "markdown",
   "metadata": {},
   "source": [
    "## Probe Shape in polar coordinates\n",
    "\n",
    "To analyse the probe shape a simple line detection is possible in polar coordinates"
   ]
  },
  {
   "cell_type": "code",
   "execution_count": null,
   "metadata": {},
   "outputs": [],
   "source": [
    "from scipy.interpolate import interp1d\n",
    "from scipy.ndimage import map_coordinates\n",
    "\n",
    "\n",
    "def cartesian2polar(x, y, grid, r, t, order=3):\n",
    "\n",
    "    R,T = np.meshgrid(r, t)\n",
    "\n",
    "    new_x = R*np.cos(T)\n",
    "    new_y = R*np.sin(T)\n",
    "\n",
    "    ix = interp1d(x, np.arange(len(x)))\n",
    "    iy = interp1d(y, np.arange(len(y)))\n",
    "\n",
    "    new_ix = ix(new_x.ravel())\n",
    "    new_iy = iy(new_y.ravel())\n",
    "\n",
    "    \n",
    "    return map_coordinates(grid, np.array([new_ix, new_iy]),\n",
    "                            order=order).reshape(new_x.shape)\n",
    "\n",
    "def warp(diff,center=None):\n",
    "    # Define original polar grid\n",
    "    nx = diff.shape[0]\n",
    "    ny = diff.shape[1]\n",
    "    if center is None:\n",
    "        center = [int(diff.shape[0]/2), int(diff.shape[1]/2)]\n",
    "\n",
    "    x = np.linspace(1, nx, nx, endpoint = True)-center[0]\n",
    "    y = np.linspace(1, ny, ny, endpoint = True)-center[1]\n",
    "    z = diff\n",
    "\n",
    "    # Define new polar grid\n",
    "    nr = int(min([center[0], center[1], diff.shape[0]-center[0], diff.shape[1]-center[1]])-1)\n",
    "   \n",
    "    nt = 360*3\n",
    "\n",
    "\n",
    "    r = np.linspace(1, nr, nr)\n",
    "    t = np.linspace(0., np.pi, nt, endpoint = False)\n",
    "    return cartesian2polar(x, y, z, r, t, order=3).T\n",
    "\n",
    "polar_beam_under = warp(dec[0].real)\n",
    "polar_beam_over = warp(dec[1].real)\n",
    "\n",
    "plt.figure()\n",
    "plt.subplot(211)\n",
    "plt.imshow(polar_beam_under.T[:,:60], aspect='auto')\n",
    "\n",
    "plt.subplot(212)\n",
    "plt.imshow(polar_beam_over.T[:,:60], aspect='auto')"
   ]
  },
  {
   "cell_type": "markdown",
   "metadata": {},
   "source": [
    "## Conclusions\n",
    "\n",
    "We need a high-contrast sample for the tableau based determination of aberrations.\n",
    "\n",
    "Known under and over-focused images with the reference image will allow for a deconvolution of the probe shape.\n",
    "\n",
    "We use the larger probe size of the defocused beam and the fact that defocus $C_{1,0}$ does not influence any other aberrations."
   ]
  },
  {
   "cell_type": "code",
   "execution_count": null,
   "metadata": {},
   "outputs": [],
   "source": []
  }
 ],
 "metadata": {
  "hide_code_all_hidden": false,
  "kernelspec": {
   "display_name": "Python 3 (ipykernel)",
   "language": "python",
   "name": "python3"
  },
  "language_info": {
   "codemirror_mode": {
    "name": "ipython",
    "version": 3
   },
   "file_extension": ".py",
   "mimetype": "text/x-python",
   "name": "python",
   "nbconvert_exporter": "python",
   "pygments_lexer": "ipython3",
   "version": "3.12.8"
  },
  "toc": {
   "base_numbering": 1,
   "nav_menu": {},
   "number_sections": true,
   "sideBar": true,
   "skip_h1_title": false,
   "title_cell": "Table of Contents",
   "title_sidebar": "Contents",
   "toc_cell": false,
   "toc_position": {
    "height": "371.083px",
    "left": "68px",
    "top": "317.833px",
    "width": "289.033px"
   },
   "toc_section_display": true,
   "toc_window_display": true
  },
  "vscode": {
   "interpreter": {
    "hash": "838e0debddb5b6f29d3d8c39ba50ae8c51920a564d3bac000e89375a158a81de"
   }
  }
 },
 "nbformat": 4,
 "nbformat_minor": 4
}
